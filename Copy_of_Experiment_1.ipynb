{
  "cells": [
    {
      "cell_type": "code",
      "execution_count": 1,
      "metadata": {
        "colab": {
          "base_uri": "https://localhost:8080/"
        },
        "id": "AcZ5N2uyovQ0",
        "outputId": "c999455b-b587-4a81-f36d-3926ca841398"
      },
      "outputs": [
        {
          "output_type": "stream",
          "name": "stdout",
          "text": [
            "Collecting pybbn\n",
            "  Downloading pybbn-3.2.3.tar.gz (36 kB)\n",
            "  Preparing metadata (setup.py) ... \u001b[?25l\u001b[?25hdone\n",
            "Requirement already satisfied: numpy in /usr/local/lib/python3.11/dist-packages (from pybbn) (2.0.2)\n",
            "Requirement already satisfied: scipy in /usr/local/lib/python3.11/dist-packages (from pybbn) (1.14.1)\n",
            "Requirement already satisfied: networkx in /usr/local/lib/python3.11/dist-packages (from pybbn) (3.4.2)\n",
            "Requirement already satisfied: pandas in /usr/local/lib/python3.11/dist-packages (from pybbn) (2.2.2)\n",
            "Requirement already satisfied: python-dateutil>=2.8.2 in /usr/local/lib/python3.11/dist-packages (from pandas->pybbn) (2.8.2)\n",
            "Requirement already satisfied: pytz>=2020.1 in /usr/local/lib/python3.11/dist-packages (from pandas->pybbn) (2025.2)\n",
            "Requirement already satisfied: tzdata>=2022.7 in /usr/local/lib/python3.11/dist-packages (from pandas->pybbn) (2025.2)\n",
            "Requirement already satisfied: six>=1.5 in /usr/local/lib/python3.11/dist-packages (from python-dateutil>=2.8.2->pandas->pybbn) (1.17.0)\n",
            "Building wheels for collected packages: pybbn\n",
            "  Building wheel for pybbn (setup.py) ... \u001b[?25l\u001b[?25hdone\n",
            "  Created wheel for pybbn: filename=pybbn-3.2.3-py3-none-any.whl size=40372 sha256=910f50a99b82288e3e9f4bbfa64b9e5a6ec9c9f4ddd39d99595060f64cf8ca39\n",
            "  Stored in directory: /root/.cache/pip/wheels/07/00/f6/a1ad0aa73a832ed29ae62a32a5bd05a911596be0d8d7cc7ad6\n",
            "Successfully built pybbn\n",
            "Installing collected packages: pybbn\n",
            "Successfully installed pybbn-3.2.3\n"
          ]
        }
      ],
      "source": [
        "pip install pybbn"
      ]
    },
    {
      "cell_type": "code",
      "source": [
        "import pandas as pd # for data manipulation\n",
        "import networkx as nx # for drawing graphs\n",
        "import matplotlib.pyplot as plt # for drawing graphs\n",
        "# for creating Bayesian Belief Networks (BBN)\n",
        "from pybbn.graph.dag import Bbn\n",
        "from pybbn.graph.edge import Edge, EdgeType\n",
        "from pybbn.graph.jointree import EvidenceBuilder\n",
        "from pybbn.graph.node import BbnNode\n",
        "from pybbn.graph.variable import Variable\n",
        "from pybbn.pptc.inferencecontroller import InferenceController\n",
        "#Set Pandas options to display more columns\n",
        "pd.options.display.max_columns=50\n",
        "\n",
        "# Read in the weather data csv\n",
        "df=pd.read_csv('/content/weatherAUS.csv', encoding='utf-8')\n",
        "\n",
        "# Drop records where target RainTomorrow=NaN\n",
        "df=df[pd.isnull(df['RainTomorrow'])==False]\n",
        "# Drop the 'Date' column as it is not relevant for the model\n",
        "df = df.drop(columns='Date')\n",
        "\n",
        "# For other columns with missing values, fill them in with column mean for numeric columns only\n",
        "numeric_columns = df.select_dtypes(include=['number']).columns\n",
        "df[numeric_columns] = df[numeric_columns].fillna(df[numeric_columns].mean())\n",
        "\n",
        "# Create bands for variables that we want to use in the model\n",
        "df['WindGustSpeedCat']=df['WindGustSpeed'].apply(lambda x: '0.<=40'   if x<=40 else\n",
        "                                                            '1.40-50' if 40<x<=50 else '2.>50')\n",
        "df['Humidity9amCat']=df['Humidity9am'].apply(lambda x: '1.>60' if x>60 else '0.<=60')\n",
        "df['Humidity3pmCat']=df['Humidity3pm'].apply(lambda x: '1.>60' if x>60 else '0.<=60')\n",
        "\n",
        "# Show a snaphsot of data\n",
        "print(df)\n",
        "\n",
        "# This function helps to calculate probability distribution, which goes into BBN (note, can handle up to 2 parents)\n",
        "def probs(data, child, parent1=None, parent2=None):\n",
        "    if parent1==None:\n",
        "        # Calculate probabilities\n",
        "        prob=pd.crosstab(data[child], 'Empty', margins=False, normalize='columns').sort_index().to_numpy().reshape(-1).tolist()\n",
        "    elif parent1!=None:\n",
        "            # Check if child node has 1 parent or 2 parents\n",
        "            if parent2==None:\n",
        "                # Caclucate probabilities\n",
        "                prob=pd.crosstab(data[parent1],data[child], margins=False, normalize='index').sort_index().to_numpy().reshape(-1).tolist()\n",
        "            else:\n",
        "                # Caclucate probabilities\n",
        "                prob=pd.crosstab([data[parent1],data[parent2]],data[child], margins=False, normalize='index').sort_index().to_numpy().reshape(-1).tolist()\n",
        "    else: print(\"Error in Probability Frequency Calculations\")\n",
        "    return prob\n",
        "# Create nodes by using our earlier function to automatically calculate probabilities\n",
        "H9am = BbnNode(Variable(0, 'H9am', ['<=60', '>60']), probs(df, child='Humidity9amCat'))\n",
        "H3pm = BbnNode(Variable(1, 'H3pm', ['<=60', '>60']), probs(df, child='Humidity3pmCat', parent1='Humidity9amCat'))\n",
        "W = BbnNode(Variable(2, 'W', ['<=40', '40-50', '>50']), probs(df, child='WindGustSpeedCat'))\n",
        "RT = BbnNode(Variable(3, 'RT', ['No', 'Yes']), probs(df, child='RainTomorrow', parent1='Humidity3pmCat', parent2='WindGustSpeedCat'))\n",
        "\n",
        "# Create Network\n",
        "bbn = Bbn() \\\n",
        "    .add_node(H9am) \\\n",
        "    .add_node(H3pm) \\\n",
        "    .add_node(W) \\\n",
        "    .add_node(RT) \\\n",
        "    .add_edge(Edge(H9am, H3pm, EdgeType.DIRECTED)) \\\n",
        "    .add_edge(Edge(H3pm, RT, EdgeType.DIRECTED)) \\\n",
        "    .add_edge(Edge(W, RT, EdgeType.DIRECTED))\n",
        "\n",
        "# Convert the BBN to a join tree\n",
        "join_tree = InferenceController.apply(bbn)\n",
        "# Set node positions\n",
        "pos = {0: (-1, 2), 1: (-1, 0.5), 2: (1, 0.5), 3: (0, -1)}\n",
        "\n",
        "# Set options for graph looks\n",
        "options = {\n",
        "    \"font_size\": 16,\n",
        "    \"node_size\": 4000,\n",
        "    \"node_color\": \"white\",\n",
        "    \"edgecolors\": \"black\",\n",
        "    \"edge_color\": \"red\",\n",
        "    \"linewidths\": 5,\n",
        "    \"width\": 5,}\n",
        "\n",
        "# Generate graph\n",
        "n, d = bbn.to_nx_graph()\n",
        "nx.draw(n, with_labels=True, labels=d, pos=pos, **options)\n",
        "\n",
        "# Update margins and print the graph\n",
        "ax = plt.gca()\n",
        "ax.margins(0.10)\n",
        "plt.axis(\"off\")\n",
        "plt.show()\n"
      ],
      "metadata": {
        "id": "c8YOh54JOnGb",
        "outputId": "f457b292-e206-4e05-d155-24e7e875ed7d",
        "colab": {
          "base_uri": "https://localhost:8080/",
          "height": 1000
        }
      },
      "execution_count": 2,
      "outputs": [
        {
          "output_type": "stream",
          "name": "stdout",
          "text": [
            "       Location  MinTemp  MaxTemp  Rainfall  Evaporation  Sunshine  \\\n",
            "0        Albury     13.4     22.9       0.6     5.341124    7.3921   \n",
            "1        Albury      7.4     25.1       0.0     5.341124    7.3921   \n",
            "2        Albury     12.9     25.7       0.0     5.341124    7.3921   \n",
            "3        Albury      9.2     28.0       0.0     5.341124    7.3921   \n",
            "4        Albury     17.5     32.3       1.0     5.341124    7.3921   \n",
            "...         ...      ...      ...       ...          ...       ...   \n",
            "108152  Woomera      8.7     25.3       0.0     6.800000   10.5000   \n",
            "108153  Woomera      9.0     23.1       0.0     7.000000    9.9000   \n",
            "108154  Woomera     10.0     27.1       0.0     4.000000    8.4000   \n",
            "108155  Woomera     12.8     30.1       0.0     7.200000    7.7000   \n",
            "108156  Woomera     17.5     21.1       1.0     9.400000    0.5000   \n",
            "\n",
            "       WindGustDir  WindGustSpeed WindDir9am WindDir3pm  WindSpeed9am  \\\n",
            "0                W           44.0          W        WNW          20.0   \n",
            "1              WNW           44.0        NNW        WSW           4.0   \n",
            "2              WSW           46.0          W        WSW          19.0   \n",
            "3               NE           24.0         SE          E          11.0   \n",
            "4                W           41.0        ENE         NW           7.0   \n",
            "...            ...            ...        ...        ...           ...   \n",
            "108152         WNW           52.0        WNW        WSW          20.0   \n",
            "108153           W           30.0        NNW        WSW           7.0   \n",
            "108154         NNW           43.0          N        NNW          17.0   \n",
            "108155         NNW           41.0          N          N          15.0   \n",
            "108156           N           61.0          E          N           9.0   \n",
            "\n",
            "        WindSpeed3pm  Humidity9am  Humidity3pm  Pressure9am  Pressure3pm  \\\n",
            "0               24.0         71.0         22.0       1007.7       1007.1   \n",
            "1               22.0         44.0         25.0       1010.6       1007.8   \n",
            "2               26.0         38.0         30.0       1007.6       1008.7   \n",
            "3                9.0         45.0         16.0       1017.6       1012.8   \n",
            "4               20.0         82.0         33.0       1010.8       1006.0   \n",
            "...              ...          ...          ...          ...          ...   \n",
            "108152          33.0         30.0         26.0       1014.7       1012.0   \n",
            "108153          20.0         76.0         39.0       1019.6       1016.2   \n",
            "108154          24.0         54.0         24.0       1017.7       1013.5   \n",
            "108155          24.0         34.0         16.0       1015.7       1012.0   \n",
            "108156          33.0         84.0         47.0       1013.5       1009.1   \n",
            "\n",
            "        Cloud9am  Cloud3pm  Temp9am  Temp3pm RainToday RainTomorrow  \\\n",
            "0       8.000000  4.655178     16.9     21.8        No           No   \n",
            "1       4.601338  4.655178     17.2     24.3        No           No   \n",
            "2       4.601338  2.000000     21.0     23.2        No           No   \n",
            "3       4.601338  4.655178     18.1     26.5        No           No   \n",
            "4       7.000000  8.000000     17.8     29.7        No           No   \n",
            "...          ...       ...      ...      ...       ...          ...   \n",
            "108152  0.000000  4.655178     17.1     24.3        No           No   \n",
            "108153  0.000000  4.655178     15.3     21.8        No           No   \n",
            "108154  0.000000  4.655178     17.0     26.4        No           No   \n",
            "108155  0.000000  4.655178     19.0     29.0        No           No   \n",
            "108156  8.000000  7.000000     18.1     20.9        No          Yes   \n",
            "\n",
            "       WindGustSpeedCat Humidity9amCat Humidity3pmCat  \n",
            "0               1.40-50          1.>60         0.<=60  \n",
            "1               1.40-50         0.<=60         0.<=60  \n",
            "2               1.40-50         0.<=60         0.<=60  \n",
            "3                0.<=40         0.<=60         0.<=60  \n",
            "4               1.40-50          1.>60         0.<=60  \n",
            "...                 ...            ...            ...  \n",
            "108152            2.>50         0.<=60         0.<=60  \n",
            "108153           0.<=40          1.>60         0.<=60  \n",
            "108154          1.40-50         0.<=60         0.<=60  \n",
            "108155          1.40-50         0.<=60         0.<=60  \n",
            "108156            2.>50          1.>60         0.<=60  \n",
            "\n",
            "[105564 rows x 25 columns]\n"
          ]
        },
        {
          "output_type": "display_data",
          "data": {
            "text/plain": [
              "<Figure size 640x480 with 1 Axes>"
            ],
            "image/png": "[encoded data removed]"
          },
          "metadata": {}
        }
      ]
    },
    {
      "cell_type": "code",
      "source": [],
      "metadata": {
        "id": "tRxnz8UbkNHB"
      },
      "execution_count": null,
      "outputs": []
    }
  ],
  "metadata": {
    "colab": {
      "provenance": []
    },
    "kernelspec": {
      "display_name": "Python 3",
      "name": "python3"
    },
    "language_info": {
      "name": "python"
    }
  },
  "nbformat": 4,
  "nbformat_minor": 0
}